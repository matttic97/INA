{
 "cells": [
  {
   "cell_type": "code",
   "execution_count": 1,
   "metadata": {
    "id": "Y3dIcOi-G_Xx"
   },
   "outputs": [],
   "source": [
    "import os\n",
    "import networkx as nx\n",
    "import matplotlib.pyplot as plt\n",
    "import numpy as np\n",
    "import time\n",
    "import random\n",
    "from collections import deque\n",
    "import math"
   ]
  },
  {
   "cell_type": "code",
   "execution_count": 2,
   "metadata": {
    "id": "MgGACRtRVIQj"
   },
   "outputs": [],
   "source": [
    "def read_net(folder, file_name, skip=4):\n",
    "    \"\"\"Read network\"\"\"\n",
    "    G = nx.Graph(name = file_name)  # define empty graph\n",
    "    with open(os.path.join(folder, file_name), 'r') as f:\n",
    "        for i in range(skip):\n",
    "            f.readline()\n",
    "        \n",
    "        # add nodes\n",
    "        for line in f:\n",
    "            if line.startswith(\"#\"):\n",
    "              node = line.split()\n",
    "              if len(node) == 4:\n",
    "                G.add_node(int(node[1]) - 1, label=node[2].strip('\\\"'))\n",
    "            else: \n",
    "              # add edges\n",
    "              node1_str, node2_str = line.split()[:2]\n",
    "              G.add_edge(int(node1_str)-1, int(node2_str)-1)\n",
    "\n",
    "    return G"
   ]
  },
  {
   "cell_type": "markdown",
   "metadata": {
    "id": "PnF8FZSQHEkR"
   },
   "source": [
    "## 1.3"
   ]
  },
  {
   "cell_type": "code",
   "execution_count": 9,
   "metadata": {},
   "outputs": [],
   "source": [
    "def get_component(G, N, i):\n",
    "  # return list of nodes in connected component containing (i)\n",
    "  C = []\n",
    "  S = []\n",
    "  # DFS\n",
    "  S.append(i)\n",
    "  N.remove(i)\n",
    "  while S:\n",
    "    i = S.pop()\n",
    "    C.append(i)\n",
    "    for j in G[i]:\n",
    "      if j in N:\n",
    "        N.remove(j)\n",
    "        S.append(j)\n",
    "  return C\n",
    "\n",
    "def get_components(G):\n",
    "  # return list of connected components\n",
    "  C = []\n",
    "  N = set(range(len(G)))\n",
    "  while N:\n",
    "    C.append(get_component(G, N, next(iter(N))))\n",
    "  return C"
   ]
  },
  {
   "cell_type": "code",
   "execution_count": 11,
   "metadata": {},
   "outputs": [],
   "source": [
    "G = nx.read_adjlist('data/enron', create_using=nx.DiGraph())\n",
    "G1 = [[] for _ in range(len(G.nodes))]\n",
    "G2 = [[] for _ in range(len(G.nodes))]\n",
    "for edge in G.edges():\n",
    "  node1_str, node2_str = edge[0], edge[1]\n",
    "  # read edge as a pair of nodes\n",
    "  node1, node2 = int(node1_str)-1, int(node2_str)-1\n",
    "  G1[node1].append(node2)\n",
    "  G2[node2].append(node1)"
   ]
  },
  {
   "cell_type": "code",
   "execution_count": 12,
   "metadata": {},
   "outputs": [],
   "source": [
    "components_one = get_components(G1)\n",
    "components_two = get_components(G2)"
   ]
  },
  {
   "cell_type": "code",
   "execution_count": 13,
   "metadata": {},
   "outputs": [
    {
     "name": "stdout",
     "output_type": "stream",
     "text": [
      "9944 68820\n"
     ]
    }
   ],
   "source": [
    "print(len(components_one), len(components_two))"
   ]
  },
  {
   "cell_type": "markdown",
   "metadata": {
    "id": "OQGQktkhHEvb"
   },
   "source": [
    "## 1.5"
   ]
  },
  {
   "cell_type": "code",
   "execution_count": 3,
   "metadata": {
    "id": "y_HU9Xv9KWuA"
   },
   "outputs": [],
   "source": [
    "def get_distance_for_node(G, i):\n",
    "    # empty array\n",
    "    D = [-1] * len(G)\n",
    "    Q = deque()\n",
    "    D[i] = 0\n",
    "    Q.append(i)\n",
    "\n",
    "    # main algorithm\n",
    "    while Q:\n",
    "      i = Q.popleft()\n",
    "      for j in G[i]: # neighbors\n",
    "        if D[j] == -1:\n",
    "          D[j] = D[i] + 1\n",
    "          Q.append(j)\n",
    "    return [d for d in D if d > 0]\n",
    "  \n",
    "def get_distances_between_nodes(G, d_max=100):\n",
    "    nodes = G.nodes()\n",
    "    D = [0 for _ in range(d_max)]\n",
    "    for i in nodes:\n",
    "      d = get_distance_for_node(G, i)\n",
    "      for v in d:\n",
    "        D[v] += 1\n",
    "    return D\n",
    "\n",
    "def get_d90(D):\n",
    "    c = math.ceil(np.sum(D) * 0.9)\n",
    "    sum = 0\n",
    "    for i in range(len(D)):\n",
    "      sum += D[i]\n",
    "      if sum >= c:\n",
    "        return i"
   ]
  },
  {
   "cell_type": "code",
   "execution_count": 4,
   "metadata": {
    "id": "imJ2bdO7Ke-Q"
   },
   "outputs": [
    {
     "name": "stdout",
     "output_type": "stream",
     "text": [
      "15\n"
     ]
    }
   ],
   "source": [
    "graph = read_net('data', 'aps_2010_2011')\n",
    "distances = get_distances_between_nodes(graph)\n",
    "d90 = get_d90(distances)\n",
    "print(d90)"
   ]
  },
  {
   "cell_type": "code",
   "execution_count": 5,
   "metadata": {},
   "outputs": [
    {
     "name": "stdout",
     "output_type": "stream",
     "text": [
      "13\n"
     ]
    }
   ],
   "source": [
    "graph = read_net('data', 'aps_2010_2012')\n",
    "distances = get_distances_between_nodes(graph)\n",
    "d90 = get_d90(distances)\n",
    "print(d90)"
   ]
  },
  {
   "cell_type": "code",
   "execution_count": 6,
   "metadata": {},
   "outputs": [
    {
     "name": "stdout",
     "output_type": "stream",
     "text": [
      "0\n"
     ]
    }
   ],
   "source": [
    "graph = read_net('data', 'aps_2010_2013')\n",
    "distances = get_distances_between_nodes(graph)\n",
    "d90 = get_d90(distances)\n",
    "print(d90)"
   ]
  },
  {
   "cell_type": "markdown",
   "metadata": {
    "id": "Iv8-JciVHCRj"
   },
   "source": [
    "## 2.3"
   ]
  },
  {
   "cell_type": "code",
   "execution_count": 7,
   "metadata": {
    "id": "TLTweUXqHWln"
   },
   "outputs": [],
   "source": [
    "def build_erdos_renyi_graph(n, m):\n",
    "    \"\"\"Build erdos-renyi graph with n nodes and m edges\"\"\"\n",
    "    H = set()\n",
    "    G = nx.Graph(name=f\"erdos_renyi_{n}_{m}\")\n",
    "    \n",
    "    # add nodes\n",
    "    for i in range(n):\n",
    "      G.add_node(i, label=str(i+1))\n",
    "\n",
    "    edges = []\n",
    "    # add edges to the list\n",
    "    while len(edges) < m:\n",
    "      i = random.randint(0, n-1)\n",
    "      j = random.randint(0, n-1)\n",
    "      if i != j:\n",
    "        edges.append((i, j))\n",
    "\n",
    "    G.add_edges_from(edges)\n",
    "    return G"
   ]
  },
  {
   "cell_type": "code",
   "execution_count": 8,
   "metadata": {
    "colab": {
     "base_uri": "https://localhost:8080/",
     "height": 269
    },
    "id": "IeWll8K1HBtA",
    "outputId": "c299bfcf-0c7f-4662-e281-a3592c6cef00"
   },
   "outputs": [
    {
     "name": "stderr",
     "output_type": "stream",
     "text": [
      "C:\\Users\\matic\\AppData\\Roaming\\Python\\Python37\\site-packages\\ipykernel_launcher.py:28: UserWarning: Matplotlib is currently using module://matplotlib_inline.backend_inline, which is a non-GUI backend, so cannot show the figure.\n"
     ]
    },
    {
     "data": {
      "image/png": "[encoded data removed]",
      "text/plain": [
       "<Figure size 432x288 with 1 Axes>"
      ]
     },
     "metadata": {
      "needs_background": "light"
     },
     "output_type": "display_data"
    }
   ],
   "source": [
    "def calc_theoretical_dist(avg_degree, degrees):\n",
    "  dist = []\n",
    "  for d in degrees:\n",
    "    dist.append( (pow(avg_degree, d) * math.exp(-avg_degree)) / math.factorial(d) )\n",
    "  return dist\n",
    "\n",
    "\n",
    "graph = nx.read_edgelist(\"data/facebook\", comments=\"#\")\n",
    "degrees = np.array(graph.degree(), dtype='uint')\n",
    "k, count = np.unique(degrees[:, 1], return_counts=True)\n",
    "\n",
    "random_graph = build_erdos_renyi_graph(graph.number_of_nodes(), graph.number_of_edges())\n",
    "degrees = np.array(random_graph.degree(), dtype='uint')\n",
    "k2, count2 = np.unique(degrees[:, 1], return_counts=True)\n",
    "\n",
    "avg_degree = 2 * graph.number_of_edges() / graph.number_of_nodes()\n",
    "theoretical_dist = calc_theoretical_dist(avg_degree, k2)\n",
    "\n",
    "fig = plt.figure()\n",
    "ax = fig.add_subplot()\n",
    "plt.scatter(k, count/graph.number_of_nodes() , label=\"Facebook\")\n",
    "plt.scatter(k2, count2/graph.number_of_nodes() , label=\"ER\")\n",
    "plt.plot(k2, theoretical_dist, label=\"ER theoretical\")\n",
    "ax.set_yscale('log')\n",
    "ax.set_xscale('log')\n",
    "plt.legend()\n",
    "plt.savefig(\"pk_distributions\")\n",
    "fig.show()"
   ]
  }
 ],
 "metadata": {
  "colab": {
   "name": "homework1.ipynb",
   "provenance": []
  },
  "kernelspec": {
   "display_name": "Python 3 (ipykernel)",
   "language": "python",
   "name": "python3"
  },
  "language_info": {
   "codemirror_mode": {
    "name": "ipython",
    "version": 3
   },
   "file_extension": ".py",
   "mimetype": "text/x-python",
   "name": "python",
   "nbconvert_exporter": "python",
   "pygments_lexer": "ipython3",
   "version": "3.7.9"
  }
 },
 "nbformat": 4,
 "nbformat_minor": 1
}
