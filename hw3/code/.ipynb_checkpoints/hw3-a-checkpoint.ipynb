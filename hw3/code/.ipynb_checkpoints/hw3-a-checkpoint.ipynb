{
 "cells": [
  {
   "cell_type": "markdown",
   "id": "817c8cea",
   "metadata": {},
   "source": [
    "# Homework 3"
   ]
  },
  {
   "cell_type": "code",
   "execution_count": 118,
   "id": "e2c99474",
   "metadata": {},
   "outputs": [],
   "source": [
    "# !pip install cdlib\n",
    "# !pip install leidenalg\n",
    "# !pip uninstall community\n",
    "# !pip install python-louvain\n",
    "\n",
    "import networkx as nx\n",
    "from networkx.algorithms import node_classification\n",
    "import random\n",
    "from cdlib import algorithms, evaluation, NodeClustering\n",
    "from community import community_louvain\n",
    "import matplotlib.pyplot as plt\n",
    "from collections import Counter\n",
    "import numpy as np\n",
    "import os"
   ]
  },
  {
   "cell_type": "markdown",
   "id": "290e6feb",
   "metadata": {},
   "source": [
    "## 2. Who’s the winner?"
   ]
  },
  {
   "cell_type": "markdown",
   "id": "bbb314db",
   "metadata": {},
   "source": [
    "### (i)"
   ]
  },
  {
   "cell_type": "code",
   "execution_count": 99,
   "id": "67d6386b",
   "metadata": {},
   "outputs": [
    {
     "name": "stdout",
     "output_type": "stream",
     "text": [
      "ALGORITHM: Louvain\n",
      "mu=0.00, NMI: 1.000\n",
      "mu=0.10, NMI: 1.000\n",
      "mu=0.20, NMI: 1.000\n",
      "mu=0.30, NMI: 0.998\n",
      "mu=0.40, NMI: 0.907\n",
      "mu=0.50, NMI: 0.295\n",
      "==================================================================\n",
      "ALGORITHM: Walktrap\n",
      "mu=0.00, NMI: 1.000\n",
      "mu=0.10, NMI: 1.000\n",
      "mu=0.20, NMI: 1.000\n",
      "mu=0.30, NMI: 1.000\n",
      "mu=0.40, NMI: 0.884\n",
      "mu=0.50, NMI: 0.351\n",
      "==================================================================\n",
      "ALGORITHM: Label propagation\n",
      "mu=0.00, NMI: 1.000\n",
      "mu=0.10, NMI: 0.453\n",
      "mu=0.20, NMI: 0.210\n",
      "mu=0.30, NMI: 0.000\n",
      "mu=0.40, NMI: 0.000\n",
      "mu=0.50, NMI: 0.000\n",
      "==================================================================\n"
     ]
    }
   ],
   "source": [
    "def build_synhtetic_graph(mu = 0.5):\n",
    "    G = nx.Graph(name = \"girvan_newman\")\n",
    "    n = 72\n",
    "    cluster_div = 24\n",
    "    for i in range(n):\n",
    "        G.add_node(i, cluster = i // cluster_div + 1)\n",
    "    \n",
    "    nodes = list(G.nodes(data=True))\n",
    "    for _ in range(1440):\n",
    "        node = random.choice(nodes)\n",
    "        if random.random() > mu:\n",
    "            next_node = random.choice([n for (n, d) in nodes if d['cluster'] == node[1]['cluster']])\n",
    "            G.add_edge(node[0], next_node)\n",
    "        else:\n",
    "            next_node = random.choice([n for (n, d) in nodes if d['cluster'] != node[1]['cluster']])\n",
    "            G.add_edge(node[0], next_node)\n",
    "    return G\n",
    "\n",
    "def compare_on_synthetic(algo_fn, mus, iter_num=10):\n",
    "    nmis = []\n",
    "    for mu in mus:\n",
    "        NMI = 0\n",
    "        for _ in range(iter_num):\n",
    "            G = build_synhtetic_graph(mu)\n",
    "            clustered_G = algo_fn(G)\n",
    "            partition = get_graph_ideal_partition(G) \n",
    "            NMI += clustered_G.normalized_mutual_information(partition).score / iter_num\n",
    "            nmis.append(NMI)\n",
    "        print(\"mu={:.2f}, NMI: {:5.3f}\".format(mu, NMI))\n",
    "    return nmis\n",
    "        \n",
    "def get_graph_ideal_partition(G):\n",
    "    P = {}\n",
    "    for node in G.nodes(data = True):\n",
    "        if node[1]['cluster'] not in P:\n",
    "            P[node[1]['cluster']] = []\n",
    "        P[node[1]['cluster']].append(node[0])\n",
    "    node_clusters = P.values()\n",
    "    return NodeClustering(list(node_clusters), G, 'Ideal')\n",
    "\n",
    "        \n",
    "iter_num = 25\n",
    "mus = [0.1 * i for i in range(0, 6)]\n",
    "algs = {\n",
    "    \"Louvain\": algorithms.louvain,\n",
    "    \"Walktrap\": algorithms.walktrap,\n",
    "    \"Label propagation\": algorithms.label_propagation\n",
    "}\n",
    "\n",
    "for algo_name in algs:\n",
    "    print('ALGORITHM:', algo_name)\n",
    "    nmis = compare_on_synthetic(algs[algo_name], mus, iter_num)\n",
    "    print('======================'*3)  "
   ]
  },
  {
   "cell_type": "markdown",
   "id": "2474854e",
   "metadata": {},
   "source": [
    "### (ii)"
   ]
  },
  {
   "cell_type": "code",
   "execution_count": 121,
   "id": "00f333c4",
   "metadata": {},
   "outputs": [
    {
     "name": "stdout",
     "output_type": "stream",
     "text": [
      "ALGORITHM: Louvain\n",
      "mu=0.00, NMI: 0.995\n",
      "mu=0.20, NMI: 0.949\n",
      "mu=0.40, NMI: 0.868\n",
      "mu=0.60, NMI: 0.508\n",
      "mu=0.80, NMI: 0.133\n",
      "==================================================================\n",
      "ALGORITHM: Walktrap\n",
      "mu=0.00, NMI: 1.000\n",
      "mu=0.20, NMI: 0.975\n",
      "mu=0.40, NMI: 0.820\n",
      "mu=0.60, NMI: 0.607\n",
      "mu=0.80, NMI: 0.427\n",
      "==================================================================\n",
      "ALGORITHM: Label propagation\n",
      "mu=0.00, NMI: 0.998\n",
      "mu=0.20, NMI: 0.965\n",
      "mu=0.40, NMI: 0.888\n",
      "mu=0.60, NMI: 0.000\n",
      "mu=0.80, NMI: 0.000\n",
      "==================================================================\n"
     ]
    }
   ],
   "source": [
    "def read_net(folder, graph_name):\n",
    "    \"\"\"Read network\"\"\"\n",
    "    file_name = graph_name + '.net'\n",
    "    G = nx.MultiGraph(name = file_name)\n",
    "    with open(os.path.join(folder, file_name), 'r', encoding='utf8') as f:\n",
    "        f.readline()\n",
    "        # add nodes\n",
    "        for line in f:\n",
    "            if line.startswith(\"*\"):\n",
    "                break\n",
    "            else:\n",
    "                node_info = line.split(\"\\\"\")\n",
    "                node = int(node_info[0]) - 1\n",
    "                label = node_info[1]\n",
    "                cluster = int(node_info[2]) if len(node_info) > 2 and len(node_info[2].strip()) > 0 else 0\n",
    "                G.add_node(node, label=label, cluster=cluster)\n",
    "\n",
    "        # add edges\n",
    "        for line in f:\n",
    "            node1_str, node2_str = line.split()[:2]\n",
    "            G.add_edge(int(node1_str)-1, int(node2_str)-1)\n",
    "    return G\n",
    "\n",
    "def compare_on_lrf(algo_fn, mus, iter_num=10):\n",
    "    nmis = []\n",
    "    for mu in mus:\n",
    "        NMI = 0\n",
    "        for i in range(iter_num):\n",
    "            G = read_net(\"data/LFR/\", \"LFR_0{}_{}\".format(int(mu*10), i))\n",
    "            clustered_G = algo_fn(G)\n",
    "            partition = get_graph_ideal_partition(G) \n",
    "            NMI += clustered_G.normalized_mutual_information(partition).score / iter_num\n",
    "            nmis.append(NMI)\n",
    "        print(\"mu={:.2f}, NMI: {:5.3f}\".format(mu, NMI))\n",
    "    return nmis\n",
    "        \n",
    "def get_graph_ideal_partition(G):\n",
    "    P = {}\n",
    "    for node in G.nodes(data = True):\n",
    "        if node[1]['cluster'] not in P:\n",
    "            P[node[1]['cluster']] = []\n",
    "        P[node[1]['cluster']].append(node[0])\n",
    "    node_clusters = P.values()\n",
    "    return NodeClustering(list(node_clusters), G, 'Ideal')\n",
    "\n",
    "iter_num = 25\n",
    "mus = [0.2 * i for i in range(0, 5)]\n",
    "\n",
    "for algo_name in algs:\n",
    "    print('ALGORITHM:', algo_name)\n",
    "    nmis = compare_on_lrf(algs[algo_name], mus, iter_num)\n",
    "    print('======================'*3)  "
   ]
  },
  {
   "cell_type": "markdown",
   "id": "45d55795",
   "metadata": {},
   "source": [
    "## 3. Peers, ties and the Internet"
   ]
  },
  {
   "cell_type": "code",
   "execution_count": 48,
   "id": "058a7b78",
   "metadata": {},
   "outputs": [],
   "source": [
    "def leiden(G, node_pairs):\n",
    "    coms = algorithms.leiden(G)\n",
    "    C = dict()\n",
    "    for i in range(len(coms.communities)):\n",
    "        for node in coms.communities[i]:\n",
    "            C[node] = i\n",
    "    part_G = community_louvain.induced_graph(C, G)\n",
    "\n",
    "    scores = []\n",
    "    for n1, n2 in node_pairs:\n",
    "        score = 0\n",
    "        if C[n1] == C[n2]:\n",
    "            try: \n",
    "                nc = len(coms.communities[C[n1]])\n",
    "                mc = part_G[C[n1]][C[n2]]['weight']\n",
    "                score = mc / (nc * (nc-1) / 2)\n",
    "            except KeyError:\n",
    "                score = 0\n",
    "        scores.append([n1, n2, score])\n",
    "    return scores\n",
    "\n",
    "def sample(G, p):\n",
    "    nodes = list(G.nodes())\n",
    "    N = int(G.number_of_edges()*p)\n",
    "    \n",
    "    Ln = []\n",
    "    while len(Ln) != N:\n",
    "        node1, node2 = random.choice(nodes), random.choice(nodes)\n",
    "        if not G.has_edge(node1, node2) and (node1, node2) not in Ln:\n",
    "            Ln.append((node1, node2))\n",
    "    \n",
    "    Lp = random.sample(list(G.edges()), N)\n",
    "    G.remove_edges_from(Lp)  \n",
    "    \n",
    "    return Ln, Lp, G, N\n",
    "\n",
    "def predict(G, Ln, Lp):\n",
    "    LpLn = [*Lp, *Ln]\n",
    "    return np.array([leiden(G, LpLn), nx.preferential_attachment(G, LpLn), nx.adamic_adar_index(G, LpLn)])\n",
    "\n",
    "def AUC(G):\n",
    "    Ln, Lp, G, N = sample(G.copy(), 0.1)\n",
    "    \n",
    "    index = len(Lp)\n",
    "    predicted = predict(G, Ln, Lp)\n",
    "    print(predicted)\n",
    "    scores = []\n",
    "    for pred in predicted:\n",
    "        m1, m2 = 0, 0\n",
    "        for n in range(N):\n",
    "            s1 = random.sample(pred[:index], 1)[0]\n",
    "            s2 = random.sample(pred[index:], 1)[0]\n",
    "            if s2[2] > s1[2]:\n",
    "                m1 += 1\n",
    "            elif s1[2] == s2[2]:\n",
    "                m2 +=1\n",
    "        scores.append((m1 + m2/2) / N)\n",
    "    return np.array(scores)\n",
    "\n",
    "def AUC_runs(G, name, n=10):\n",
    "    scores = [0, 0, 0]\n",
    "    for i in range(n):\n",
    "        scores += AUC(G)\n",
    "    print(name + ':')\n",
    "    print(\"  Leiden:\", scores[0]/n)\n",
    "    print(\"  Preferential attachment:\", scores[1]/n)\n",
    "    print(\"  Adamic adar index:\", scores[2]/n)"
   ]
  },
  {
   "cell_type": "code",
   "execution_count": 49,
   "id": "f99584fa",
   "metadata": {
    "scrolled": true
   },
   "outputs": [
    {
     "ename": "TypeError",
     "evalue": "'generator' object is not subscriptable",
     "output_type": "error",
     "traceback": [
      "\u001b[1;31m---------------------------------------------------------------------------\u001b[0m",
      "\u001b[1;31mTypeError\u001b[0m                                 Traceback (most recent call last)",
      "\u001b[1;32m~\\AppData\\Local\\Temp/ipykernel_16548/294623130.py\u001b[0m in \u001b[0;36m<module>\u001b[1;34m\u001b[0m\n\u001b[0;32m      1\u001b[0m \u001b[0mG\u001b[0m \u001b[1;33m=\u001b[0m \u001b[0mnx\u001b[0m\u001b[1;33m.\u001b[0m\u001b[0mGraph\u001b[0m\u001b[1;33m(\u001b[0m\u001b[0mnx\u001b[0m\u001b[1;33m.\u001b[0m\u001b[0mread_pajek\u001b[0m\u001b[1;33m(\u001b[0m\u001b[1;34m\"data/gnutella.net\"\u001b[0m\u001b[1;33m)\u001b[0m\u001b[1;33m)\u001b[0m\u001b[1;33m.\u001b[0m\u001b[0mto_undirected\u001b[0m\u001b[1;33m(\u001b[0m\u001b[1;33m)\u001b[0m\u001b[1;33m\u001b[0m\u001b[1;33m\u001b[0m\u001b[0m\n\u001b[1;32m----> 2\u001b[1;33m \u001b[0mAUC_runs\u001b[0m\u001b[1;33m(\u001b[0m\u001b[0mG\u001b[0m\u001b[1;33m,\u001b[0m \u001b[1;34m\"Gnutella\"\u001b[0m\u001b[1;33m,\u001b[0m \u001b[1;36m10\u001b[0m\u001b[1;33m)\u001b[0m\u001b[1;33m\u001b[0m\u001b[1;33m\u001b[0m\u001b[0m\n\u001b[0m",
      "\u001b[1;32m~\\AppData\\Local\\Temp/ipykernel_16548/1948896216.py\u001b[0m in \u001b[0;36mAUC_runs\u001b[1;34m(G, name, n)\u001b[0m\n\u001b[0;32m     60\u001b[0m     \u001b[0mscores\u001b[0m \u001b[1;33m=\u001b[0m \u001b[1;33m[\u001b[0m\u001b[1;36m0\u001b[0m\u001b[1;33m,\u001b[0m \u001b[1;36m0\u001b[0m\u001b[1;33m,\u001b[0m \u001b[1;36m0\u001b[0m\u001b[1;33m]\u001b[0m\u001b[1;33m\u001b[0m\u001b[1;33m\u001b[0m\u001b[0m\n\u001b[0;32m     61\u001b[0m     \u001b[1;32mfor\u001b[0m \u001b[0mi\u001b[0m \u001b[1;32min\u001b[0m \u001b[0mrange\u001b[0m\u001b[1;33m(\u001b[0m\u001b[0mn\u001b[0m\u001b[1;33m)\u001b[0m\u001b[1;33m:\u001b[0m\u001b[1;33m\u001b[0m\u001b[1;33m\u001b[0m\u001b[0m\n\u001b[1;32m---> 62\u001b[1;33m         \u001b[0mscores\u001b[0m \u001b[1;33m+=\u001b[0m \u001b[0mAUC\u001b[0m\u001b[1;33m(\u001b[0m\u001b[0mG\u001b[0m\u001b[1;33m)\u001b[0m\u001b[1;33m\u001b[0m\u001b[1;33m\u001b[0m\u001b[0m\n\u001b[0m\u001b[0;32m     63\u001b[0m     \u001b[0mprint\u001b[0m\u001b[1;33m(\u001b[0m\u001b[0mname\u001b[0m \u001b[1;33m+\u001b[0m \u001b[1;34m':'\u001b[0m\u001b[1;33m)\u001b[0m\u001b[1;33m\u001b[0m\u001b[1;33m\u001b[0m\u001b[0m\n\u001b[0;32m     64\u001b[0m     \u001b[0mprint\u001b[0m\u001b[1;33m(\u001b[0m\u001b[1;34m\"  Leiden:\"\u001b[0m\u001b[1;33m,\u001b[0m \u001b[0mscores\u001b[0m\u001b[1;33m[\u001b[0m\u001b[1;36m0\u001b[0m\u001b[1;33m]\u001b[0m\u001b[1;33m/\u001b[0m\u001b[0mn\u001b[0m\u001b[1;33m)\u001b[0m\u001b[1;33m\u001b[0m\u001b[1;33m\u001b[0m\u001b[0m\n",
      "\u001b[1;32m~\\AppData\\Local\\Temp/ipykernel_16548/1948896216.py\u001b[0m in \u001b[0;36mAUC\u001b[1;34m(G)\u001b[0m\n\u001b[0;32m     48\u001b[0m         \u001b[0mm1\u001b[0m\u001b[1;33m,\u001b[0m \u001b[0mm2\u001b[0m \u001b[1;33m=\u001b[0m \u001b[1;36m0\u001b[0m\u001b[1;33m,\u001b[0m \u001b[1;36m0\u001b[0m\u001b[1;33m\u001b[0m\u001b[1;33m\u001b[0m\u001b[0m\n\u001b[0;32m     49\u001b[0m         \u001b[1;32mfor\u001b[0m \u001b[0mn\u001b[0m \u001b[1;32min\u001b[0m \u001b[0mrange\u001b[0m\u001b[1;33m(\u001b[0m\u001b[0mN\u001b[0m\u001b[1;33m)\u001b[0m\u001b[1;33m:\u001b[0m\u001b[1;33m\u001b[0m\u001b[1;33m\u001b[0m\u001b[0m\n\u001b[1;32m---> 50\u001b[1;33m             \u001b[0ms1\u001b[0m \u001b[1;33m=\u001b[0m \u001b[0mrandom\u001b[0m\u001b[1;33m.\u001b[0m\u001b[0msample\u001b[0m\u001b[1;33m(\u001b[0m\u001b[0mpred\u001b[0m\u001b[1;33m[\u001b[0m\u001b[1;33m:\u001b[0m\u001b[0mindex\u001b[0m\u001b[1;33m]\u001b[0m\u001b[1;33m,\u001b[0m \u001b[1;36m1\u001b[0m\u001b[1;33m)\u001b[0m\u001b[1;33m[\u001b[0m\u001b[1;36m0\u001b[0m\u001b[1;33m]\u001b[0m\u001b[1;33m\u001b[0m\u001b[1;33m\u001b[0m\u001b[0m\n\u001b[0m\u001b[0;32m     51\u001b[0m             \u001b[0ms2\u001b[0m \u001b[1;33m=\u001b[0m \u001b[0mrandom\u001b[0m\u001b[1;33m.\u001b[0m\u001b[0msample\u001b[0m\u001b[1;33m(\u001b[0m\u001b[0mpred\u001b[0m\u001b[1;33m[\u001b[0m\u001b[0mindex\u001b[0m\u001b[1;33m:\u001b[0m\u001b[1;33m]\u001b[0m\u001b[1;33m,\u001b[0m \u001b[1;36m1\u001b[0m\u001b[1;33m)\u001b[0m\u001b[1;33m[\u001b[0m\u001b[1;36m0\u001b[0m\u001b[1;33m]\u001b[0m\u001b[1;33m\u001b[0m\u001b[1;33m\u001b[0m\u001b[0m\n\u001b[0;32m     52\u001b[0m             \u001b[1;32mif\u001b[0m \u001b[0ms2\u001b[0m\u001b[1;33m[\u001b[0m\u001b[1;36m2\u001b[0m\u001b[1;33m]\u001b[0m \u001b[1;33m>\u001b[0m \u001b[0ms1\u001b[0m\u001b[1;33m[\u001b[0m\u001b[1;36m2\u001b[0m\u001b[1;33m]\u001b[0m\u001b[1;33m:\u001b[0m\u001b[1;33m\u001b[0m\u001b[1;33m\u001b[0m\u001b[0m\n",
      "\u001b[1;31mTypeError\u001b[0m: 'generator' object is not subscriptable"
     ]
    }
   ],
   "source": [
    "G = nx.Graph(nx.read_pajek(\"data/gnutella.net\")).to_undirected()\n",
    "AUC_runs(G, \"Gnutella\", 10)"
   ]
  },
  {
   "cell_type": "code",
   "execution_count": 50,
   "id": "0be05b99",
   "metadata": {},
   "outputs": [],
   "source": [
    "Ln, Lp, G, N = sample(G.copy(), 0.1)\n",
    "\n",
    "index = len(Ln)\n",
    "predicted = predict(G, Ln, Lp)"
   ]
  },
  {
   "cell_type": "code",
   "execution_count": 54,
   "id": "4ae19267",
   "metadata": {},
   "outputs": [
    {
     "data": {
      "text/plain": [
       "['16889', '24967', 0]"
      ]
     },
     "execution_count": 54,
     "metadata": {},
     "output_type": "execute_result"
    }
   ],
   "source": [
    "pred = predicted[0]\n",
    "random.sample(pred[:3], 1)[0]"
   ]
  },
  {
   "cell_type": "code",
   "execution_count": 7,
   "id": "52ccbe73",
   "metadata": {},
   "outputs": [
    {
     "name": "stdout",
     "output_type": "stream",
     "text": [
      "Gnutella:\n",
      "  Leiden: 0.9557350107673127\n",
      "  Preferential attachment: 0.8314065510597303\n",
      "  Adamic adar index: 0.9929049076277909\n"
     ]
    }
   ],
   "source": [
    "G = nx.Graph(nx.read_pajek(\"data/circles.net\")).to_undirected()\n",
    "AUC_runs(G, \"Facebook\", 10)"
   ]
  },
  {
   "cell_type": "code",
   "execution_count": 8,
   "id": "b1dedd5b",
   "metadata": {},
   "outputs": [
    {
     "name": "stdout",
     "output_type": "stream",
     "text": [
      "Internet:\n",
      "  Leiden: 0.8994864403459182\n",
      "  Preferential attachment: 0.8232417228736951\n",
      "  Adamic adar index: 0.6972222999636171\n"
     ]
    }
   ],
   "source": [
    "G = nx.Graph(nx.read_pajek(\"data/nec.net\")).to_undirected()\n",
    "AUC_runs(G, \"Internet\", 10)"
   ]
  },
  {
   "cell_type": "markdown",
   "id": "fcbbd9e0",
   "metadata": {},
   "source": [
    "## 4. Get at least 70% right!"
   ]
  },
  {
   "cell_type": "code",
   "execution_count": 5,
   "id": "65cb76fc",
   "metadata": {},
   "outputs": [],
   "source": [
    "def read_and_split(filepath):\n",
    "    G = nx.Graph() \n",
    "\n",
    "    with open(filepath, 'r') as f:\n",
    "        f.readline()\n",
    "        test = []\n",
    "        for line in f:\n",
    "            if line.startswith(\"*\"):\n",
    "                continue\n",
    "\n",
    "            l = line.split()\n",
    "            if len(l) == 3:\n",
    "                if l[1][-3:-1] == '13':\n",
    "                    G.add_node(int(l[0]))\n",
    "                    test.append([int(l[0]), l[2]])\n",
    "                else:\n",
    "                    G.add_node(int(l[0]), label=l[2])\n",
    "            else:\n",
    "                G.add_edge(int(l[0]), int(l[1]))\n",
    "\n",
    "    return G, test"
   ]
  },
  {
   "cell_type": "code",
   "execution_count": 6,
   "id": "80959764",
   "metadata": {},
   "outputs": [
    {
     "data": {
      "text/plain": [
       "0.7289582669640012"
      ]
     },
     "execution_count": 6,
     "metadata": {},
     "output_type": "execute_result"
    }
   ],
   "source": [
    "G, test = read_and_split(\"data/aps_2008_2013.net\")\n",
    "predicted = node_classification.local_and_global_consistency(G)\n",
    "\n",
    "count = 0\n",
    "for (node, label) in test:\n",
    "    if predicted[node-1] == label:\n",
    "        count += 1\n",
    "\n",
    "acc = count / len(test)\n",
    "acc"
   ]
  }
 ],
 "metadata": {
  "kernelspec": {
   "display_name": "Python 3 (ipykernel)",
   "language": "python",
   "name": "python3"
  },
  "language_info": {
   "codemirror_mode": {
    "name": "ipython",
    "version": 3
   },
   "file_extension": ".py",
   "mimetype": "text/x-python",
   "name": "python",
   "nbconvert_exporter": "python",
   "pygments_lexer": "ipython3",
   "version": "3.7.9"
  }
 },
 "nbformat": 4,
 "nbformat_minor": 5
}
