{
 "cells": [
  {
   "cell_type": "code",
   "execution_count": 3,
   "metadata": {
    "colab": {
     "base_uri": "https://localhost:8080/"
    },
    "id": "W3OBYK9qdZHS",
    "outputId": "0df0b0c7-786f-4df0-d848-51942dedd76e"
   },
   "outputs": [
    {
     "name": "stdout",
     "output_type": "stream",
     "text": [
      "Collecting cdlib\n",
      "  Downloading cdlib-0.2.6-py3-none-any.whl (228 kB)\n",
      "\u001b[?25l\r",
      "\u001b[K     |█▍                              | 10 kB 15.4 MB/s eta 0:00:01\r",
      "\u001b[K     |██▉                             | 20 kB 11.0 MB/s eta 0:00:01\r",
      "\u001b[K     |████▎                           | 30 kB 6.8 MB/s eta 0:00:01\r",
      "\u001b[K     |█████▊                          | 40 kB 3.7 MB/s eta 0:00:01\r",
      "\u001b[K     |███████▏                        | 51 kB 3.6 MB/s eta 0:00:01\r",
      "\u001b[K     |████████▋                       | 61 kB 4.2 MB/s eta 0:00:01\r",
      "\u001b[K     |██████████                      | 71 kB 4.3 MB/s eta 0:00:01\r",
      "\u001b[K     |███████████▌                    | 81 kB 4.8 MB/s eta 0:00:01\r",
      "\u001b[K     |█████████████                   | 92 kB 5.2 MB/s eta 0:00:01\r",
      "\u001b[K     |██████████████▍                 | 102 kB 4.3 MB/s eta 0:00:01\r",
      "\u001b[K     |███████████████▊                | 112 kB 4.3 MB/s eta 0:00:01\r",
      "\u001b[K     |█████████████████▏              | 122 kB 4.3 MB/s eta 0:00:01\r",
      "\u001b[K     |██████████████████▋             | 133 kB 4.3 MB/s eta 0:00:01\r",
      "\u001b[K     |████████████████████            | 143 kB 4.3 MB/s eta 0:00:01\r",
      "\u001b[K     |█████████████████████▌          | 153 kB 4.3 MB/s eta 0:00:01\r",
      "\u001b[K     |███████████████████████         | 163 kB 4.3 MB/s eta 0:00:01\r",
      "\u001b[K     |████████████████████████▍       | 174 kB 4.3 MB/s eta 0:00:01\r",
      "\u001b[K     |█████████████████████████▉      | 184 kB 4.3 MB/s eta 0:00:01\r",
      "\u001b[K     |███████████████████████████▎    | 194 kB 4.3 MB/s eta 0:00:01\r",
      "\u001b[K     |████████████████████████████▊   | 204 kB 4.3 MB/s eta 0:00:01\r",
      "\u001b[K     |██████████████████████████████  | 215 kB 4.3 MB/s eta 0:00:01\r",
      "\u001b[K     |███████████████████████████████▌| 225 kB 4.3 MB/s eta 0:00:01\r",
      "\u001b[K     |████████████████████████████████| 228 kB 4.3 MB/s \n",
      "\u001b[?25hCollecting demon\n",
      "  Downloading demon-2.0.6-py3-none-any.whl (7.3 kB)\n",
      "Requirement already satisfied: numpy in /usr/local/lib/python3.7/dist-packages (from cdlib) (1.21.6)\n",
      "Requirement already satisfied: networkx>=2.4 in /usr/local/lib/python3.7/dist-packages (from cdlib) (2.6.3)\n",
      "Collecting dynetx\n",
      "  Downloading dynetx-0.3.1-py3-none-any.whl (39 kB)\n",
      "Collecting chinese-whispers\n",
      "  Downloading chinese_whispers-0.8.0-py3-none-any.whl (7.7 kB)\n",
      "Collecting nf1\n",
      "  Downloading nf1-0.0.4-py3-none-any.whl (18 kB)\n",
      "Requirement already satisfied: scikit-learn in /usr/local/lib/python3.7/dist-packages (from cdlib) (1.0.2)\n",
      "Collecting eva-lcd\n",
      "  Downloading eva_lcd-0.1.1-py3-none-any.whl (9.2 kB)\n",
      "Collecting angel-cd\n",
      "  Downloading angel_cd-1.0.3-py3-none-any.whl (10 kB)\n",
      "Collecting python-Levenshtein\n",
      "  Downloading python-Levenshtein-0.12.2.tar.gz (50 kB)\n",
      "\u001b[K     |████████████████████████████████| 50 kB 6.2 MB/s \n",
      "\u001b[?25hCollecting pyclustering\n",
      "  Downloading pyclustering-0.10.1.2.tar.gz (2.6 MB)\n",
      "\u001b[K     |████████████████████████████████| 2.6 MB 40.9 MB/s \n",
      "\u001b[?25hRequirement already satisfied: scipy in /usr/local/lib/python3.7/dist-packages (from cdlib) (1.4.1)\n",
      "Requirement already satisfied: tqdm in /usr/local/lib/python3.7/dist-packages (from cdlib) (4.64.0)\n",
      "Collecting pulp\n",
      "  Downloading PuLP-2.6.0-py3-none-any.whl (14.2 MB)\n",
      "\u001b[K     |████████████████████████████████| 14.2 MB 35.5 MB/s \n",
      "\u001b[?25hCollecting bimlpa\n",
      "  Downloading bimlpa-0.1.2-py3-none-any.whl (7.0 kB)\n",
      "Requirement already satisfied: python-louvain>=0.16 in /usr/local/lib/python3.7/dist-packages (from cdlib) (0.16)\n",
      "Requirement already satisfied: future in /usr/local/lib/python3.7/dist-packages (from cdlib) (0.16.0)\n",
      "Requirement already satisfied: matplotlib in /usr/local/lib/python3.7/dist-packages (from cdlib) (3.2.2)\n",
      "Requirement already satisfied: pooch in /usr/local/lib/python3.7/dist-packages (from cdlib) (1.6.0)\n",
      "Requirement already satisfied: seaborn in /usr/local/lib/python3.7/dist-packages (from cdlib) (0.11.2)\n",
      "Collecting thresholdclustering\n",
      "  Downloading thresholdclustering-1.1-py3-none-any.whl (5.3 kB)\n",
      "Requirement already satisfied: cython in /usr/local/lib/python3.7/dist-packages (from cdlib) (0.29.28)\n",
      "Collecting markov-clustering\n",
      "  Downloading markov_clustering-0.0.6.dev0-py3-none-any.whl (6.3 kB)\n",
      "Requirement already satisfied: pandas in /usr/local/lib/python3.7/dist-packages (from cdlib) (1.3.5)\n",
      "Collecting python-igraph\n",
      "  Downloading python_igraph-0.9.10-py3-none-any.whl (9.1 kB)\n",
      "Requirement already satisfied: decorator in /usr/local/lib/python3.7/dist-packages (from dynetx->cdlib) (4.4.2)\n",
      "Requirement already satisfied: pyparsing!=2.0.4,!=2.1.2,!=2.1.6,>=2.0.1 in /usr/local/lib/python3.7/dist-packages (from matplotlib->cdlib) (3.0.8)\n",
      "Requirement already satisfied: cycler>=0.10 in /usr/local/lib/python3.7/dist-packages (from matplotlib->cdlib) (0.11.0)\n",
      "Requirement already satisfied: kiwisolver>=1.0.1 in /usr/local/lib/python3.7/dist-packages (from matplotlib->cdlib) (1.4.2)\n",
      "Requirement already satisfied: python-dateutil>=2.1 in /usr/local/lib/python3.7/dist-packages (from matplotlib->cdlib) (2.8.2)\n",
      "Requirement already satisfied: typing-extensions in /usr/local/lib/python3.7/dist-packages (from kiwisolver>=1.0.1->matplotlib->cdlib) (4.1.1)\n",
      "Requirement already satisfied: six>=1.5 in /usr/local/lib/python3.7/dist-packages (from python-dateutil>=2.1->matplotlib->cdlib) (1.15.0)\n",
      "Requirement already satisfied: pytz>=2017.3 in /usr/local/lib/python3.7/dist-packages (from pandas->cdlib) (2022.1)\n",
      "Requirement already satisfied: appdirs>=1.3.0 in /usr/local/lib/python3.7/dist-packages (from pooch->cdlib) (1.4.4)\n",
      "Requirement already satisfied: packaging>=20.0 in /usr/local/lib/python3.7/dist-packages (from pooch->cdlib) (21.3)\n",
      "Requirement already satisfied: requests>=2.19.0 in /usr/local/lib/python3.7/dist-packages (from pooch->cdlib) (2.23.0)\n",
      "Requirement already satisfied: idna<3,>=2.5 in /usr/local/lib/python3.7/dist-packages (from requests>=2.19.0->pooch->cdlib) (2.10)\n",
      "Requirement already satisfied: certifi>=2017.4.17 in /usr/local/lib/python3.7/dist-packages (from requests>=2.19.0->pooch->cdlib) (2021.10.8)\n",
      "Requirement already satisfied: chardet<4,>=3.0.2 in /usr/local/lib/python3.7/dist-packages (from requests>=2.19.0->pooch->cdlib) (3.0.4)\n",
      "Requirement already satisfied: urllib3!=1.25.0,!=1.25.1,<1.26,>=1.21.1 in /usr/local/lib/python3.7/dist-packages (from requests>=2.19.0->pooch->cdlib) (1.24.3)\n",
      "Requirement already satisfied: Pillow>=5.2.0 in /usr/local/lib/python3.7/dist-packages (from pyclustering->cdlib) (7.1.2)\n",
      "Collecting igraph==0.9.10\n",
      "  Downloading igraph-0.9.10-cp37-cp37m-manylinux_2_17_x86_64.manylinux2014_x86_64.whl (3.1 MB)\n",
      "\u001b[K     |████████████████████████████████| 3.1 MB 37.6 MB/s \n",
      "\u001b[?25hCollecting texttable>=1.6.2\n",
      "  Downloading texttable-1.6.4-py2.py3-none-any.whl (10 kB)\n",
      "Requirement already satisfied: setuptools in /usr/local/lib/python3.7/dist-packages (from python-Levenshtein->cdlib) (57.4.0)\n",
      "Requirement already satisfied: joblib>=0.11 in /usr/local/lib/python3.7/dist-packages (from scikit-learn->cdlib) (1.1.0)\n",
      "Requirement already satisfied: threadpoolctl>=2.0.0 in /usr/local/lib/python3.7/dist-packages (from scikit-learn->cdlib) (3.1.0)\n",
      "Building wheels for collected packages: pyclustering, python-Levenshtein\n",
      "  Building wheel for pyclustering (setup.py) ... \u001b[?25l\u001b[?25hdone\n",
      "  Created wheel for pyclustering: filename=pyclustering-0.10.1.2-py3-none-any.whl size=2395122 sha256=93a37a1b69fb2f8faee8ad0dff334957777c6705bfc4a374e2778e6a7e0870df\n",
      "  Stored in directory: /root/.cache/pip/wheels/ea/87/6b/1e0568b5ba9dc6518a25338bae90bd8392f35206bb90bb10f1\n",
      "  Building wheel for python-Levenshtein (setup.py) ... \u001b[?25l\u001b[?25hdone\n",
      "  Created wheel for python-Levenshtein: filename=python_Levenshtein-0.12.2-cp37-cp37m-linux_x86_64.whl size=149863 sha256=2dac44e0d04cd1c311989163b37161943f87c467d07e22ef5068d06942d2b0be\n",
      "  Stored in directory: /root/.cache/pip/wheels/05/5f/ca/7c4367734892581bb5ff896f15027a932c551080b2abd3e00d\n",
      "Successfully built pyclustering python-Levenshtein\n",
      "Installing collected packages: texttable, igraph, python-igraph, thresholdclustering, python-Levenshtein, pyclustering, pulp, nf1, markov-clustering, eva-lcd, dynetx, demon, chinese-whispers, bimlpa, angel-cd, cdlib\n",
      "Successfully installed angel-cd-1.0.3 bimlpa-0.1.2 cdlib-0.2.6 chinese-whispers-0.8.0 demon-2.0.6 dynetx-0.3.1 eva-lcd-0.1.1 igraph-0.9.10 markov-clustering-0.0.6.dev0 nf1-0.0.4 pulp-2.6.0 pyclustering-0.10.1.2 python-Levenshtein-0.12.2 python-igraph-0.9.10 texttable-1.6.4 thresholdclustering-1.1\n",
      "Collecting infomap\n",
      "  Downloading infomap-2.3.0.tar.gz (302 kB)\n",
      "\u001b[K     |████████████████████████████████| 302 kB 4.4 MB/s \n",
      "\u001b[?25hBuilding wheels for collected packages: infomap\n",
      "  Building wheel for infomap (setup.py) ... \u001b[?25l\u001b[?25hdone\n",
      "  Created wheel for infomap: filename=infomap-2.3.0-cp37-cp37m-linux_x86_64.whl size=6030898 sha256=224faef4276f3afc1c3aae8f508c093303989288ce3a714fbfdd6cff72c214fb\n",
      "  Stored in directory: /root/.cache/pip/wheels/86/44/89/1bf31dc5c68227c8ad1d470a0caf548b31de1bcbcc36dc5e5e\n",
      "Successfully built infomap\n",
      "Installing collected packages: infomap\n",
      "Successfully installed infomap-2.3.0\n",
      "Collecting wurlitzer\n",
      "  Downloading wurlitzer-3.0.2-py3-none-any.whl (7.3 kB)\n",
      "Installing collected packages: wurlitzer\n",
      "Successfully installed wurlitzer-3.0.2\n",
      "Collecting leidenalg\n",
      "  Downloading leidenalg-0.8.10-cp37-cp37m-manylinux_2_17_x86_64.manylinux2014_x86_64.whl (1.3 MB)\n",
      "\u001b[K     |████████████████████████████████| 1.3 MB 4.2 MB/s \n",
      "\u001b[?25hRequirement already satisfied: igraph<0.10,>=0.9.0 in /usr/local/lib/python3.7/dist-packages (from leidenalg) (0.9.10)\n",
      "Requirement already satisfied: texttable>=1.6.2 in /usr/local/lib/python3.7/dist-packages (from igraph<0.10,>=0.9.0->leidenalg) (1.6.4)\n",
      "Installing collected packages: leidenalg\n",
      "Successfully installed leidenalg-0.8.10\n",
      "Note: to be able to use all crisp methods, you need to install some additional packages:  {'karateclub', 'graph_tool'}\n",
      "Note: to be able to use all overlapping methods, you need to install some additional packages:  {'karateclub', 'ASLPAw'}\n"
     ]
    }
   ],
   "source": [
    "!pip install cdlib\n",
    "!pip install infomap\n",
    "!pip install wurlitzer\n",
    "!pip install leidenalg\n",
    "\n",
    "import networkx as nx\n",
    "from networkx.algorithms import node_classification\n",
    "import random\n",
    "from cdlib import algorithms, evaluation, NodeClustering\n",
    "from community import community_louvain\n",
    "import matplotlib.pyplot as plt\n",
    "from collections import Counter\n",
    "import numpy as np\n",
    "import os\n",
    "import math"
   ]
  },
  {
   "cell_type": "markdown",
   "metadata": {
    "id": "5sWU8FrYrkhp"
   },
   "source": [
    "## 2. Who’s the winner?"
   ]
  },
  {
   "cell_type": "markdown",
   "metadata": {
    "id": "TNe-iAYbrn7I"
   },
   "source": [
    "### (i)"
   ]
  },
  {
   "cell_type": "code",
   "execution_count": 67,
   "metadata": {
    "colab": {
     "base_uri": "https://localhost:8080/",
     "height": 696
    },
    "id": "sxTyWpG9dcfm",
    "outputId": "4064e607-66dd-464b-d459-c83640488cdd"
   },
   "outputs": [
    {
     "name": "stdout",
     "output_type": "stream",
     "text": [
      "ALGORITHM: Louvain\n",
      "mu=0.00, NMI: 1.000\n",
      "mu=0.10, NMI: 1.000\n",
      "mu=0.20, NMI: 1.000\n",
      "mu=0.30, NMI: 1.000\n",
      "mu=0.40, NMI: 0.955\n",
      "mu=0.50, NMI: 0.438\n",
      "==================================================================\n",
      "ALGORITHM: Infomap\n",
      "mu=0.00, NMI: 1.000\n",
      "mu=0.10, NMI: 0.989\n",
      "mu=0.20, NMI: 0.968\n",
      "mu=0.30, NMI: 0.680\n",
      "mu=0.40, NMI: 0.000\n",
      "mu=0.50, NMI: 0.000\n",
      "==================================================================\n",
      "ALGORITHM: Walktrap\n",
      "mu=0.00, NMI: 1.000\n",
      "mu=0.10, NMI: 1.000\n",
      "mu=0.20, NMI: 1.000\n",
      "mu=0.30, NMI: 0.998\n",
      "mu=0.40, NMI: 0.951\n",
      "mu=0.50, NMI: 0.459\n",
      "==================================================================\n"
     ]
    },
    {
     "data": {
      "image/png": "[encoded data removed]",
      "text/plain": [
       "<Figure size 432x288 with 1 Axes>"
      ]
     },
     "metadata": {
      "needs_background": "light"
     },
     "output_type": "display_data"
    }
   ],
   "source": [
    "def build_synhtetic_graph(mu = 0.5):\n",
    "    G = nx.Graph(name = \"girvan_newman\")\n",
    "    n = 72\n",
    "    cluster_div = 24\n",
    "    for i in range(n):\n",
    "        G.add_node(i, cluster = i // cluster_div + 1)\n",
    "    for i in range(n):\n",
    "        for j in range(i + 1, n):\n",
    "            if G.nodes[i]['cluster'] == G.nodes[j]['cluster']:\n",
    "                if random.random() < 20 * (1 - mu) / (cluster_div-1):\n",
    "                    G.add_edge(i, j)\n",
    "            else:\n",
    "                if random.random() < 20 * mu / (n-cluster_div):\n",
    "                    G.add_edge(i, j)\n",
    "    return G\n",
    "\n",
    "def compare_on_synthetic(algo_fn, mus, iter_num=10):\n",
    "    nmis = []\n",
    "    for mu in mus:\n",
    "        NMI = 0\n",
    "        for _ in range(iter_num):\n",
    "            G = build_synhtetic_graph(mu)\n",
    "            clustered_G = algo_fn(G)\n",
    "            partition = get_graph_ideal_partition(G) \n",
    "            NMI += clustered_G.normalized_mutual_information(partition).score / iter_num\n",
    "        nmis.append(NMI)\n",
    "        print(\"mu={:.2f}, NMI: {:5.3f}\".format(mu, NMI))\n",
    "    return nmis\n",
    "        \n",
    "def get_graph_ideal_partition(G):\n",
    "    P = {}\n",
    "    for node in G.nodes(data = True):\n",
    "        if node[1]['cluster'] not in P:\n",
    "            P[node[1]['cluster']] = []\n",
    "        P[node[1]['cluster']].append(node[0])\n",
    "    node_clusters = P.values()\n",
    "    return NodeClustering(list(node_clusters), G, 'Ideal')\n",
    "\n",
    "def run():\n",
    "    iter_num = 25\n",
    "    mus = [0.1 * i for i in range(0, 6)]\n",
    "    algs = {\n",
    "        \"Louvain\": algorithms.louvain,\n",
    "        \"Infomap\": algorithms.infomap,\n",
    "        \"Walktrap\": algorithms.walktrap\n",
    "    }\n",
    "    fig = plt.figure()\n",
    "    plt.xlabel('µ')\n",
    "    plt.ylabel('Normalized mutual information')\n",
    "    plt.xticks(mus)\n",
    "\n",
    "    for algo_name in algs:\n",
    "        print('ALGORITHM:', algo_name)\n",
    "        nmis = compare_on_synthetic(algs[algo_name], mus, iter_num)\n",
    "        plt.plot(mus, nmis, label=algo_name)\n",
    "        print('======================'*3)\n",
    "        \n",
    "    plt.savefig(\"images/2_i.jpg\")\n",
    "    plt.legend(loc=\"best\")\n",
    "\n",
    "run()"
   ]
  },
  {
   "cell_type": "markdown",
   "metadata": {
    "id": "aaIi8dd1rrZb"
   },
   "source": [
    "### (ii)"
   ]
  },
  {
   "cell_type": "code",
   "execution_count": 60,
   "metadata": {
    "colab": {
     "base_uri": "https://localhost:8080/",
     "height": 644
    },
    "id": "zhCLnNQrdpqc",
    "outputId": "108c9fb7-da01-44d2-ed80-7e1899866cb7"
   },
   "outputs": [
    {
     "name": "stdout",
     "output_type": "stream",
     "text": [
      "ALGORITHM: Louvain\n",
      "mu=0.00, NMI: 0.995\n",
      "mu=0.20, NMI: 0.949\n",
      "mu=0.40, NMI: 0.869\n",
      "mu=0.60, NMI: 0.518\n",
      "mu=0.80, NMI: 0.127\n",
      "==================================================================\n",
      "ALGORITHM: Infomap\n",
      "mu=0.00, NMI: 0.985\n",
      "mu=0.20, NMI: 0.996\n",
      "mu=0.40, NMI: 0.955\n",
      "mu=0.60, NMI: 0.726\n",
      "mu=0.80, NMI: 0.334\n",
      "==================================================================\n",
      "ALGORITHM: Walktrap\n",
      "mu=0.00, NMI: 1.000\n",
      "mu=0.20, NMI: 0.975\n",
      "mu=0.40, NMI: 0.820\n",
      "mu=0.60, NMI: 0.607\n",
      "mu=0.80, NMI: 0.427\n",
      "==================================================================\n"
     ]
    },
    {
     "data": {
      "image/png": "[encoded data removed]",
      "text/plain": [
       "<Figure size 432x288 with 1 Axes>"
      ]
     },
     "metadata": {
      "needs_background": "light"
     },
     "output_type": "display_data"
    }
   ],
   "source": [
    "def read_net(folder, graph_name):\n",
    "    file_name = graph_name + '.net'\n",
    "    G = nx.MultiGraph(name = file_name)\n",
    "    with open(os.path.join(folder, file_name), 'r', encoding='utf8') as f:\n",
    "        f.readline()\n",
    "        # add nodes\n",
    "        for line in f:\n",
    "            if line.startswith(\"*\"):\n",
    "                break\n",
    "            else:\n",
    "                node_info = line.split(\"\\\"\")\n",
    "                node = int(node_info[0]) - 1\n",
    "                label = node_info[1]\n",
    "                cluster = int(node_info[2]) if len(node_info) > 2 and len(node_info[2].strip()) > 0 else 0\n",
    "                G.add_node(node, label=label, cluster=cluster)\n",
    "\n",
    "        # add edges\n",
    "        for line in f:\n",
    "            node1_str, node2_str = line.split()[:2]\n",
    "            G.add_edge(int(node1_str)-1, int(node2_str)-1)\n",
    "    return G\n",
    "\n",
    "def compare_on_lrf(algo_fn, mus, iter_num=10):\n",
    "    nmis = []\n",
    "    for mu in mus:\n",
    "        NMI = 0\n",
    "        for i in range(iter_num):\n",
    "            G = read_net(\"data/LFR/\", \"LFR_0{}_{}\".format(int(mu*10), i))\n",
    "            clustered_G = algo_fn(G)\n",
    "            partition = get_graph_ideal_partition(G) \n",
    "            NMI += clustered_G.normalized_mutual_information(partition).score / iter_num\n",
    "        nmis.append(NMI)\n",
    "        print(\"mu={:.2f}, NMI: {:5.3f}\".format(mu, NMI))\n",
    "    return nmis\n",
    "        \n",
    "def get_graph_ideal_partition(G):\n",
    "    P = {}\n",
    "    for node in G.nodes(data = True):\n",
    "        if node[1]['cluster'] not in P:\n",
    "            P[node[1]['cluster']] = []\n",
    "        P[node[1]['cluster']].append(node[0])\n",
    "    node_clusters = P.values()\n",
    "    return NodeClustering(list(node_clusters), G, 'Ideal')\n",
    "\n",
    "def run():\n",
    "    iter_num = 25\n",
    "    mus = [0.2 * i for i in range(0, 5)]\n",
    "    algs = {\n",
    "        \"Louvain\": algorithms.louvain,\n",
    "        \"Infomap\": algorithms.infomap,\n",
    "        \"Walktrap\": algorithms.walktrap\n",
    "    }\n",
    "    fig = plt.figure()\n",
    "    plt.xlabel('µ')\n",
    "    plt.ylabel('Normalized mutual information')\n",
    "    plt.xticks(mus)\n",
    "\n",
    "    for algo_name in algs:\n",
    "        print('ALGORITHM:', algo_name)\n",
    "        nmis = compare_on_lrf(algs[algo_name], mus, iter_num)\n",
    "        plt.plot(mus, nmis, label=algo_name)\n",
    "        print('======================'*3)\n",
    "        \n",
    "    plt.legend(loc=\"best\")\n",
    "    plt.savefig(\"images/2_ii.jpg\")\n",
    "\n",
    "run()"
   ]
  },
  {
   "cell_type": "markdown",
   "metadata": {
    "id": "5282a6Ekrt2N"
   },
   "source": [
    "### (iii)"
   ]
  },
  {
   "cell_type": "code",
   "execution_count": 5,
   "metadata": {
    "colab": {
     "base_uri": "https://localhost:8080/",
     "height": 644
    },
    "id": "ys4jHQ17fHzC",
    "outputId": "86515f65-f907-4301-b2dc-59ff57d7bb5c"
   },
   "outputs": [
    {
     "name": "stdout",
     "output_type": "stream",
     "text": [
      "ALGORITHM: Louvain\n",
      "mu=8.00, NVI: 0.895\n",
      "mu=16.00, NVI: 1.026\n",
      "mu=24.00, NVI: 0.979\n",
      "mu=32.00, NVI: 0.974\n",
      "mu=40.00, NVI: 0.986\n",
      "==================================================================\n",
      "ALGORITHM: Infomap\n",
      "mu=8.00, NVI: 0.552\n",
      "mu=16.00, NVI: 1.443\n",
      "mu=24.00, NVI: 1.443\n",
      "mu=32.00, NVI: 1.443\n",
      "mu=40.00, NVI: 1.443\n",
      "==================================================================\n",
      "ALGORITHM: Walktrap\n",
      "mu=8.00, NVI: 0.707\n",
      "mu=16.00, NVI: 0.859\n",
      "mu=24.00, NVI: 0.948\n",
      "mu=32.00, NVI: 0.945\n",
      "mu=40.00, NVI: 0.990\n",
      "==================================================================\n"
     ]
    },
    {
     "data": {
      "image/png": "[encoded data removed]",
      "text/plain": [
       "<Figure size 432x288 with 1 Axes>"
      ]
     },
     "metadata": {
      "needs_background": "light"
     },
     "output_type": "display_data"
    }
   ],
   "source": [
    "def compare_on_random(algo_fn, avg_degrees, iter_num=10):\n",
    "    nvis = []\n",
    "    n = 1000\n",
    "    for avg_degree in avg_degrees:\n",
    "        NVI = 0\n",
    "        for i in range(iter_num):\n",
    "            G = nx.gnm_random_graph(n, avg_degree*n/2)\n",
    "            clustered_G = algo_fn(G)\n",
    "            partition = NodeClustering([[r] for r in range(n)], graph=G, method_name=\"rand_graph\")\n",
    "            NVI += clustered_G.variation_of_information(partition).score / math.log(n)\n",
    "        NVI /= iter_num\n",
    "        nvis.append(NVI)\n",
    "        print(\"avg degree={:.2f}, NVI: {:5.3f}\".format(avg_degree, NVI))\n",
    "    return nvis\n",
    "\n",
    "def run():\n",
    "    iter_num = 25\n",
    "    avg_degrees = [8 * i for i in range(1, 6)]\n",
    "    algs = {\n",
    "        \"Louvain\": algorithms.louvain,\n",
    "        \"Infomap\": algorithms.infomap,\n",
    "        \"Walktrap\": algorithms.walktrap\n",
    "    }\n",
    "    fig = plt.figure()\n",
    "    plt.xlabel('µ')\n",
    "    plt.ylabel('Normalized variation of information')\n",
    "    plt.xticks(avg_degrees)\n",
    "\n",
    "    for algo_name in algs:\n",
    "        print('ALGORITHM:', algo_name)\n",
    "        nvis = compare_on_random(algs[algo_name], avg_degrees, iter_num)\n",
    "        plt.plot(avg_degrees, nvis, label=algo_name)\n",
    "        print('======================'*3)\n",
    "        \n",
    "    plt.legend(loc=\"best\")\n",
    "    plt.savefig(\"images/2_iii.jpg\")\n",
    "\n",
    "run()"
   ]
  },
  {
   "cell_type": "markdown",
   "metadata": {
    "id": "enUKudYOrv1x"
   },
   "source": [
    "### (iv)"
   ]
  },
  {
   "cell_type": "code",
   "execution_count": 32,
   "metadata": {
    "colab": {
     "base_uri": "https://localhost:8080/"
    },
    "id": "h1x3vrkmr6B9",
    "outputId": "2e4ff702-529a-4b9a-d329-f0d6238466d5"
   },
   "outputs": [
    {
     "name": "stdout",
     "output_type": "stream",
     "text": [
      "ALGORITHM: Louvain\n",
      "NMI: 0.149\n",
      "==================================================================\n",
      "ALGORITHM: Infomap\n",
      "NMI: 0.000\n",
      "==================================================================\n",
      "ALGORITHM: Walktrap\n",
      "NMI: 0.000\n",
      "==================================================================\n"
     ]
    }
   ],
   "source": [
    "def compare_on_dolphins(G, algo_fn, iter_num=25):\n",
    "    N = G.number_of_nodes()\n",
    "    communities = []\n",
    "    for i in range(iter_num):\n",
    "        clustered_G = algo_fn(G)\n",
    "        communities.append(clustered_G)\n",
    "    NVI = 0\n",
    "    for i in range(iter_num):\n",
    "        for j in range(i+1, iter_num):\n",
    "            NVI += communities[i].variation_of_information(communities[j]).score / math.log(N)\n",
    "    NVI /= iter_num*(iter_num-1)/2\n",
    "    print(\"NVI: {:5.3f}\".format(NVI))\n",
    "    return NVI\n",
    "\n",
    "def run():\n",
    "    iter_num = 25\n",
    "    G = read_net(\"data\", \"dolphins\")\n",
    "    algs = {\n",
    "        \"Louvain\": algorithms.louvain,\n",
    "        \"Infomap\": algorithms.infomap,\n",
    "        \"Walktrap\": algorithms.walktrap\n",
    "    }\n",
    "    for algo_name in algs:\n",
    "        print('ALGORITHM:', algo_name)\n",
    "        nmi = compare_on_dolphins(G, algs[algo_name], iter_num)\n",
    "        print('======================'*3)\n",
    "\n",
    "run()"
   ]
  },
  {
   "cell_type": "markdown",
   "metadata": {
    "id": "cq1PCnJufT6S"
   },
   "source": [
    "## 3. Peers, ties and the Internet"
   ]
  },
  {
   "cell_type": "code",
   "execution_count": 6,
   "metadata": {
    "id": "86dlNEm9fdZ3"
   },
   "outputs": [],
   "source": [
    "def leiden(G, node_pairs):\n",
    "    coms = algorithms.leiden(G)\n",
    "    C = dict()\n",
    "    for i in range(len(coms.communities)):\n",
    "        for node in coms.communities[i]:\n",
    "            C[node] = i\n",
    "    part_G = community_louvain.induced_graph(C, G)\n",
    "\n",
    "    scores = []\n",
    "    for n1, n2 in node_pairs:\n",
    "        score = 0\n",
    "        if C[n1] == C[n2]:\n",
    "            try: \n",
    "                nc = len(coms.communities[C[n1]])\n",
    "                mc = part_G[C[n1]][C[n2]]['weight']\n",
    "                score = mc / (nc * (nc-1) / 2)\n",
    "            except KeyError:\n",
    "                score = 0\n",
    "        scores.append([n1, n2, score])\n",
    "    return scores\n",
    "\n",
    "def sample(G, p):\n",
    "    nodes = list(G.nodes())\n",
    "    N = int(G.number_of_edges()*p)\n",
    "    \n",
    "    Ln = []\n",
    "    while len(Ln) != N:\n",
    "        node1, node2 = random.choice(nodes), random.choice(nodes)\n",
    "        if not G.has_edge(node1, node2) and (node1, node2) not in Ln:\n",
    "            Ln.append((node1, node2))\n",
    "    \n",
    "    Lp = random.sample(list(G.edges()), N)\n",
    "    G.remove_edges_from(Lp)  \n",
    "    \n",
    "    return G, [*Ln, *Lp], len(Ln), N\n",
    "\n",
    "def AUC(G, algs):\n",
    "    G, nodes, l, N = sample(G.copy(), 0.1)\n",
    "\n",
    "    scores = []\n",
    "    for algo_name in algs:\n",
    "        predicted = list(algs[algo_name](G, nodes))\n",
    "        m1, m2 = 0, 0\n",
    "        for n in range(N):\n",
    "            s1 = random.sample(predicted[:l], 1)[0]\n",
    "            s2 = random.sample(predicted[l:], 1)[0]\n",
    "            if s2[2] > s1[2]:\n",
    "                m1 += 1\n",
    "            elif s1[2] == s2[2]:\n",
    "                m2 +=1\n",
    "        scores.append((m1 + m2/2) / N)\n",
    "    return np.array(scores)\n",
    "\n",
    "def AUC_runs(G, name, algs, n=10):\n",
    "    auc_l, auc_p, auc_a = 0, 0, 0\n",
    "    for i in range(n):\n",
    "        scores = AUC(G, algs)\n",
    "        auc_l += scores[0]\n",
    "        auc_p += scores[1]\n",
    "        auc_a += scores[2]\n",
    "    print(name + ':')\n",
    "    print(\"  Leiden:\", auc_l/n)\n",
    "    print(\"  Preferential attachment:\", auc_p/n)\n",
    "    print(\"  Adamic adar index:\", auc_a/n)"
   ]
  },
  {
   "cell_type": "code",
   "execution_count": 10,
   "metadata": {
    "colab": {
     "base_uri": "https://localhost:8080/"
    },
    "id": "2GJ5lnYFpKOC",
    "outputId": "2e58dc13-b4af-4e1f-cbe1-745cb5874621"
   },
   "outputs": [
    {
     "name": "stdout",
     "output_type": "stream",
     "text": [
      "Gnutella:\n",
      "  Leiden: 0.5331090675502063\n",
      "  Preferential attachment: 0.717225640678883\n",
      "  Adamic adar index: 0.51465278247346\n"
     ]
    }
   ],
   "source": [
    "algs = {\n",
    "    \"Leiden\": leiden,\n",
    "    \"Pref attachment\": nx.preferential_attachment,\n",
    "    \"Adamic adar index\": nx.adamic_adar_index\n",
    "}\n",
    "G = nx.Graph(nx.read_pajek(\"data/gnutella.net\")).to_undirected()\n",
    "AUC_runs(G, \"Gnutella\", algs, 10)"
   ]
  },
  {
   "cell_type": "code",
   "execution_count": 4,
   "metadata": {
    "colab": {
     "base_uri": "https://localhost:8080/"
    },
    "id": "JkE4AKlgp0n9",
    "outputId": "4bdd6d11-4eaf-4ba3-e50c-1886906cbcc5"
   },
   "outputs": [
    {
     "name": "stdout",
     "output_type": "stream",
     "text": [
      "Facebook:\n",
      "  Leiden: 0.9562337073557747\n",
      "  Preferential attachment: 0.8306471721636631\n",
      "  Adamic adar index: 0.9934886093165589\n"
     ]
    }
   ],
   "source": [
    "G = nx.Graph(nx.read_pajek(\"data/circles.net\")).to_undirected()\n",
    "AUC_runs(G, \"Facebook\", algs, 10)"
   ]
  },
  {
   "cell_type": "code",
   "execution_count": 6,
   "metadata": {
    "colab": {
     "base_uri": "https://localhost:8080/"
    },
    "id": "lG-wyKxgp54z",
    "outputId": "f8695cae-691d-4d6f-d74d-080e9e272f41"
   },
   "outputs": [
    {
     "name": "stdout",
     "output_type": "stream",
     "text": [
      "Internet:\n",
      "  Leiden: 0.8991366040692956\n",
      "  Preferential attachment: 0.8242758389073913\n",
      "  Adamic adar index: 0.6970109988525371\n"
     ]
    }
   ],
   "source": [
    "G = nx.Graph(nx.read_pajek(\"data/nec.net\")).to_undirected()\n",
    "AUC_runs(G, \"Internet\", algs, 10)"
   ]
  },
  {
   "cell_type": "code",
   "execution_count": 9,
   "metadata": {
    "colab": {
     "base_uri": "https://localhost:8080/"
    },
    "id": "QG8tpJH2qIVh",
    "outputId": "03c07c14-a5c4-4b37-80b5-b67ff7c270aa"
   },
   "outputs": [
    {
     "name": "stdout",
     "output_type": "stream",
     "text": [
      "Random:\n",
      "  Leiden: 0.49984799999999996\n",
      "  Preferential attachment: 0.497544\n",
      "  Adamic adar index: 0.5000439999999999\n"
     ]
    }
   ],
   "source": [
    "G = nx.gnm_random_graph(25000, 125000)\n",
    "AUC_runs(G, \"Random\", algs, 10)"
   ]
  },
  {
   "cell_type": "markdown",
   "metadata": {
    "id": "I17TCfnMq_R8"
   },
   "source": [
    "## 4. Get at least 70% right!"
   ]
  },
  {
   "cell_type": "code",
   "execution_count": 3,
   "metadata": {
    "id": "TfZ-CjuNq7H_"
   },
   "outputs": [],
   "source": [
    "def read_and_split(filepath):\n",
    "    G = nx.Graph() \n",
    "\n",
    "    with open(filepath, 'r') as f:\n",
    "    f.readline()\n",
    "    test = []\n",
    "    for line in f:\n",
    "        if line.startswith(\"*\"):\n",
    "            continue\n",
    "\n",
    "        l = line.split()\n",
    "        if len(l) == 3:\n",
    "        if l[1][-3:-1] == '13':\n",
    "            G.add_node(int(l[0]))\n",
    "            test.append([int(l[0]), l[2]])\n",
    "        else:\n",
    "            G.add_node(int(l[0]), label=l[2])\n",
    "        else:\n",
    "        G.add_edge(int(l[0]), int(l[1]))\n",
    "\n",
    "    return G, test"
   ]
  },
  {
   "cell_type": "code",
   "execution_count": 7,
   "metadata": {
    "colab": {
     "base_uri": "https://localhost:8080/"
    },
    "id": "NCPa7Gr5q7pb",
    "outputId": "e262f80c-9457-4a89-9a16-bef62e3eeb67"
   },
   "outputs": [
    {
     "name": "stdout",
     "output_type": "stream",
     "text": [
      "Accuracy: 0.7289582669640012\n"
     ]
    }
   ],
   "source": [
    "G, test = read_and_split(\"data/aps_2008_2013.net\")\n",
    "iter_num = 10\n",
    "acc = 0\n",
    "for _ in range(iter_num):\n",
    "    #predicted = node_classification.harmonic_function(G)\n",
    "    predicted = node_classification.local_and_global_consistency(G)\n",
    "    count = 0\n",
    "    for (node, label) in test:\n",
    "        if predicted[node-1] == label:\n",
    "        count += 1\n",
    "\n",
    "    acc += count\n",
    "acc /= len(test)*iter_num\n",
    "print(\"Accuracy:\", acc)"
   ]
  }
 ],
 "metadata": {
  "colab": {
   "collapsed_sections": [],
   "name": "Untitled1.ipynb",
   "provenance": []
  },
  "kernelspec": {
   "display_name": "Python 3 (ipykernel)",
   "language": "python",
   "name": "python3"
  },
  "language_info": {
   "codemirror_mode": {
    "name": "ipython",
    "version": 3
   },
   "file_extension": ".py",
   "mimetype": "text/x-python",
   "name": "python",
   "nbconvert_exporter": "python",
   "pygments_lexer": "ipython3",
   "version": "3.7.9"
  }
 },
 "nbformat": 4,
 "nbformat_minor": 1
}
